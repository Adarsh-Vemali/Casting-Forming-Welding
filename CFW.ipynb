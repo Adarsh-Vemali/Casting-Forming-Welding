{
  "nbformat": 4,
  "nbformat_minor": 0,
  "metadata": {
    "colab": {
      "name": "CFW ",
      "provenance": [],
      "authorship_tag": "ABX9TyOJXx4jpxbs2l8z10Lv+47t",
      "include_colab_link": true
    },
    "kernelspec": {
      "name": "python3",
      "display_name": "Python 3"
    }
  },
  "cells": [
    {
      "cell_type": "markdown",
      "metadata": {
        "id": "view-in-github",
        "colab_type": "text"
      },
      "source": [
        "<a href=\"https://colab.research.google.com/github/Adarsh-Vemali/Casting-Forming-Welding/blob/main/CFW.ipynb\" target=\"_parent\"><img src=\"https://colab.research.google.com/assets/colab-badge.svg\" alt=\"Open In Colab\"/></a>"
      ]
    },
    {
      "cell_type": "markdown",
      "metadata": {
        "id": "qGVwsSaQgXf8"
      },
      "source": [
        "#Transformation Equations"
      ]
    },
    {
      "cell_type": "markdown",
      "metadata": {
        "id": "meGyr7PkfxAu"
      },
      "source": [
        "![snipdth.PNG](data:image/png;base64,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)"
      ]
    },
    {
      "cell_type": "code",
      "metadata": {
        "id": "C8xC-A9LVXYe",
        "colab": {
          "base_uri": "https://localhost:8080/"
        },
        "outputId": "f2bd81de-d00d-489d-ef85-b7cc332227b4"
      },
      "source": [
        "!pip3 install ColabTurtle"
      ],
      "execution_count": null,
      "outputs": [
        {
          "output_type": "stream",
          "text": [
            "Collecting ColabTurtle\n",
            "  Downloading https://files.pythonhosted.org/packages/49/01/6da7091c2c6c917cce99c000b89acb6aa27b66ef6eafc0c0ccf59b98694f/ColabTurtle-2.0.0.tar.gz\n",
            "Building wheels for collected packages: ColabTurtle\n",
            "  Building wheel for ColabTurtle (setup.py) ... \u001b[?25l\u001b[?25hdone\n",
            "  Created wheel for ColabTurtle: filename=ColabTurtle-2.0.0-cp36-none-any.whl size=4032 sha256=b83d4bf75c6f7529c3dfb3691915ac9ffbdec56f15280b355a1699c6088b775a\n",
            "  Stored in directory: /root/.cache/pip/wheels/a8/29/ec/ad346f0042ae467cc74f4378916348faf975b07890651dcae7\n",
            "Successfully built ColabTurtle\n",
            "Installing collected packages: ColabTurtle\n",
            "Successfully installed ColabTurtle-2.0.0\n"
          ],
          "name": "stdout"
        }
      ]
    },
    {
      "cell_type": "code",
      "metadata": {
        "id": "p855yT2sV0Ko"
      },
      "source": [
        "import numpy as np"
      ],
      "execution_count": null,
      "outputs": []
    },
    {
      "cell_type": "code",
      "metadata": {
        "id": "chIGuoTeQqwk",
        "colab": {
          "base_uri": "https://localhost:8080/",
          "height": 556
        },
        "outputId": "b3e0a96d-cbc6-46df-eb79-9f4d44a28ec6"
      },
      "source": [
        "print('Stress element : ')\n",
        "print()\n",
        "import ColabTurtle\n",
        "from ColabTurtle.Turtle import * #or simply import ColabTurtle should work fine\n",
        "\n",
        "alex = ColabTurtle.Turtle\n",
        "alex.initializeTurtle()\n",
        "alex.forward(100)\n",
        "alex.right(90)\n",
        "alex.forward(100)\n",
        "alex.right(90)\n",
        "alex.forward(100)\n",
        "alex.right(90)\n",
        "alex.forward(100)"
      ],
      "execution_count": null,
      "outputs": [
        {
          "output_type": "stream",
          "text": [
            "Stress element : \n",
            "\n"
          ],
          "name": "stdout"
        },
        {
          "output_type": "display_data",
          "data": {
            "text/html": [
              "\n",
              "      <svg width=\"800\" height=\"500\">\n",
              "        <rect width=\"100%\" height=\"100%\" fill=\"black\"/>\n",
              "        <line x1=\"400\" y1=\"250\" x2=\"400.0\" y2=\"150.0\" stroke-linecap=\"round\" style=\"stroke:white;stroke-width:4\"/><line x1=\"400.0\" y1=\"150.0\" x2=\"500.0\" y2=\"150.0\" stroke-linecap=\"round\" style=\"stroke:white;stroke-width:4\"/><line x1=\"500.0\" y1=\"150.0\" x2=\"500.0\" y2=\"250.0\" stroke-linecap=\"round\" style=\"stroke:white;stroke-width:4\"/><line x1=\"500.0\" y1=\"250.0\" x2=\"400.0\" y2=\"250.0\" stroke-linecap=\"round\" style=\"stroke:white;stroke-width:4\"/>\n",
              "        \n",
              "      <g visibility=visible transform=\"rotate(90,400.0,250.0) translate(400.0, 250.0)\">\n",
              "        <circle stroke=\"white\" stroke-width=\"3\" fill=\"transparent\" r=\"12\" cx=\"0\" cy=\"0\"/>\n",
              "        <polygon points=\"0,19 3,16 -3,16\" style=\"fill:white;stroke:white;stroke-width:2\"/>\n",
              "      </g>\n",
              "    \n",
              "      </svg>\n",
              "    "
            ],
            "text/plain": [
              "<IPython.core.display.HTML object>"
            ]
          },
          "metadata": {
            "tags": []
          }
        }
      ]
    },
    {
      "cell_type": "code",
      "metadata": {
        "id": "fPbbl2frWZnT",
        "colab": {
          "base_uri": "https://localhost:8080/"
        },
        "outputId": "e18c26cc-5c03-43f6-8c4f-46aac8acd722"
      },
      "source": [
        "print('Input sigma_x : ')\n",
        "sigmax = int(input())\n",
        "print()\n",
        "print('Input sigma_y : ')\n",
        "sigmay = int(input())\n",
        "print()\n",
        "print('Input Tau_xy : ')\n",
        "tau_xy = int(input())\n",
        "print()"
      ],
      "execution_count": null,
      "outputs": [
        {
          "output_type": "stream",
          "text": [
            "Input sigma_x : \n",
            "10\n",
            "\n",
            "Input sigma_y : \n",
            "10\n",
            "\n",
            "Input Tau_xy : \n",
            "10\n",
            "\n"
          ],
          "name": "stdout"
        }
      ]
    },
    {
      "cell_type": "code",
      "metadata": {
        "id": "5MsazCi0hCUe"
      },
      "source": [
        "def show_disp(theta):\n",
        "  print('New stress element at', theta,'rotated anticlockwise')\n",
        "  print()\n",
        "  alex = ColabTurtle.Turtle\n",
        "  alex.initializeTurtle()\n",
        "  alex.left(theta)\n",
        "  alex.forward(100)\n",
        "  alex.right(90)\n",
        "  alex.forward(100)\n",
        "  alex.right(90)\n",
        "  alex.forward(100)\n",
        "  alex.right(90)\n",
        "  alex.forward(100)"
      ],
      "execution_count": null,
      "outputs": []
    },
    {
      "cell_type": "code",
      "metadata": {
        "id": "gfmcB97phYP0"
      },
      "source": [
        "def new_stresses(theta,sigmax=sigmax,sigmay=sigmay):\n",
        "  print('New sigma_x: ')\n",
        "  new_sigma_x = (sigmax+sigmay)/2 + (sigmax-sigmay)/2*np.cos(2*theta) +tau_xy*np.sin(2*theta)\n",
        "  print(new_sigma_x)\n",
        "  print()\n",
        "  print('New sigma_y: ')\n",
        "  new_sigma_y = (sigmax+sigmay)/2 - (sigmax-sigmay)/2*np.cos(2*theta) - tau_xy*np.sin(2*theta)\n",
        "  print(new_sigma_y)\n",
        "  print()\n",
        "  print('New tau_xy: ')\n",
        "  new_tau_xy =  - (sigmax-sigmay)/2*np.sin(2*theta) +tau_xy*np.cos(2*theta)\n",
        "  print(new_tau_xy)"
      ],
      "execution_count": null,
      "outputs": []
    },
    {
      "cell_type": "code",
      "metadata": {
        "id": "0l38YlQ5eXdR",
        "colab": {
          "base_uri": "https://localhost:8080/",
          "height": 1000
        },
        "outputId": "a3ea49f2-9a58-4abe-cbd9-8051d3eeeefb"
      },
      "source": [
        "for theta in range(0,90,15):\n",
        "  print()\n",
        "  show_disp(theta)\n",
        "  print()\n",
        "  new_stresses(theta)"
      ],
      "execution_count": null,
      "outputs": [
        {
          "output_type": "stream",
          "text": [
            "\n",
            "New stress element at 0 rotated anticlockwise\n",
            "\n"
          ],
          "name": "stdout"
        },
        {
          "output_type": "display_data",
          "data": {
            "text/html": [
              "\n",
              "      <svg width=\"800\" height=\"500\">\n",
              "        <rect width=\"100%\" height=\"100%\" fill=\"black\"/>\n",
              "        <line x1=\"400\" y1=\"250\" x2=\"400.0\" y2=\"150.0\" stroke-linecap=\"round\" style=\"stroke:white;stroke-width:4\"/><line x1=\"400.0\" y1=\"150.0\" x2=\"500.0\" y2=\"150.0\" stroke-linecap=\"round\" style=\"stroke:white;stroke-width:4\"/><line x1=\"500.0\" y1=\"150.0\" x2=\"500.0\" y2=\"250.0\" stroke-linecap=\"round\" style=\"stroke:white;stroke-width:4\"/><line x1=\"500.0\" y1=\"250.0\" x2=\"400.0\" y2=\"250.0\" stroke-linecap=\"round\" style=\"stroke:white;stroke-width:4\"/>\n",
              "        \n",
              "      <g visibility=visible transform=\"rotate(90,400.0,250.0) translate(400.0, 250.0)\">\n",
              "        <circle stroke=\"white\" stroke-width=\"3\" fill=\"transparent\" r=\"12\" cx=\"0\" cy=\"0\"/>\n",
              "        <polygon points=\"0,19 3,16 -3,16\" style=\"fill:white;stroke:white;stroke-width:2\"/>\n",
              "      </g>\n",
              "    \n",
              "      </svg>\n",
              "    "
            ],
            "text/plain": [
              "<IPython.core.display.HTML object>"
            ]
          },
          "metadata": {
            "tags": []
          }
        },
        {
          "output_type": "stream",
          "text": [
            "\n",
            "New sigma_x: \n",
            "10.0\n",
            "\n",
            "New sigma_y: \n",
            "10.0\n",
            "\n",
            "New tau_xy: \n",
            "10.0\n",
            "\n",
            "New stress element at 15 rotated anticlockwise\n",
            "\n"
          ],
          "name": "stdout"
        },
        {
          "output_type": "display_data",
          "data": {
            "text/html": [
              "\n",
              "      <svg width=\"800\" height=\"500\">\n",
              "        <rect width=\"100%\" height=\"100%\" fill=\"black\"/>\n",
              "        <line x1=\"400\" y1=\"250\" x2=\"374.11809548974793\" y2=\"153.40741737109317\" stroke-linecap=\"round\" style=\"stroke:white;stroke-width:4\"/><line x1=\"374.11809548974793\" y1=\"153.40741737109317\" x2=\"470.71067811865476\" y2=\"127.5255128608411\" stroke-linecap=\"round\" style=\"stroke:white;stroke-width:4\"/><line x1=\"470.71067811865476\" y1=\"127.5255128608411\" x2=\"496.5925826289068\" y2=\"224.11809548974793\" stroke-linecap=\"round\" style=\"stroke:white;stroke-width:4\"/><line x1=\"496.5925826289068\" y1=\"224.11809548974793\" x2=\"400.0\" y2=\"250.00000000000003\" stroke-linecap=\"round\" style=\"stroke:white;stroke-width:4\"/>\n",
              "        \n",
              "      <g visibility=visible transform=\"rotate(75,400.0,250.00000000000003) translate(400.0, 250.00000000000003)\">\n",
              "        <circle stroke=\"white\" stroke-width=\"3\" fill=\"transparent\" r=\"12\" cx=\"0\" cy=\"0\"/>\n",
              "        <polygon points=\"0,19 3,16 -3,16\" style=\"fill:white;stroke:white;stroke-width:2\"/>\n",
              "      </g>\n",
              "    \n",
              "      </svg>\n",
              "    "
            ],
            "text/plain": [
              "<IPython.core.display.HTML object>"
            ]
          },
          "metadata": {
            "tags": []
          }
        },
        {
          "output_type": "stream",
          "text": [
            "\n",
            "New sigma_x: \n",
            "0.11968375907138196\n",
            "\n",
            "New sigma_y: \n",
            "19.880316240928618\n",
            "\n",
            "New tau_xy: \n",
            "1.5425144988758404\n",
            "\n",
            "New stress element at 30 rotated anticlockwise\n",
            "\n"
          ],
          "name": "stdout"
        },
        {
          "output_type": "display_data",
          "data": {
            "text/html": [
              "\n",
              "      <svg width=\"800\" height=\"500\">\n",
              "        <rect width=\"100%\" height=\"100%\" fill=\"black\"/>\n",
              "        <line x1=\"400\" y1=\"250\" x2=\"349.99999999999994\" y2=\"163.39745962155615\" stroke-linecap=\"round\" style=\"stroke:white;stroke-width:4\"/><line x1=\"349.99999999999994\" y1=\"163.39745962155615\" x2=\"436.6025403784438\" y2=\"113.39745962155611\" stroke-linecap=\"round\" style=\"stroke:white;stroke-width:4\"/><line x1=\"436.6025403784438\" y1=\"113.39745962155611\" x2=\"486.6025403784438\" y2=\"199.99999999999997\" stroke-linecap=\"round\" style=\"stroke:white;stroke-width:4\"/><line x1=\"486.6025403784438\" y1=\"199.99999999999997\" x2=\"399.9999999999999\" y2=\"249.99999999999997\" stroke-linecap=\"round\" style=\"stroke:white;stroke-width:4\"/>\n",
              "        \n",
              "      <g visibility=visible transform=\"rotate(60,399.9999999999999,249.99999999999997) translate(399.9999999999999, 249.99999999999997)\">\n",
              "        <circle stroke=\"white\" stroke-width=\"3\" fill=\"transparent\" r=\"12\" cx=\"0\" cy=\"0\"/>\n",
              "        <polygon points=\"0,19 3,16 -3,16\" style=\"fill:white;stroke:white;stroke-width:2\"/>\n",
              "      </g>\n",
              "    \n",
              "      </svg>\n",
              "    "
            ],
            "text/plain": [
              "<IPython.core.display.HTML object>"
            ]
          },
          "metadata": {
            "tags": []
          }
        },
        {
          "output_type": "stream",
          "text": [
            "\n",
            "New sigma_x: \n",
            "6.951893788977833\n",
            "\n",
            "New sigma_y: \n",
            "13.048106211022166\n",
            "\n",
            "New tau_xy: \n",
            "-9.524129804151563\n",
            "\n",
            "New stress element at 45 rotated anticlockwise\n",
            "\n"
          ],
          "name": "stdout"
        },
        {
          "output_type": "display_data",
          "data": {
            "text/html": [
              "\n",
              "      <svg width=\"800\" height=\"500\">\n",
              "        <rect width=\"100%\" height=\"100%\" fill=\"black\"/>\n",
              "        <line x1=\"400\" y1=\"250\" x2=\"329.28932188134524\" y2=\"179.28932188134524\" stroke-linecap=\"round\" style=\"stroke:white;stroke-width:4\"/><line x1=\"329.28932188134524\" y1=\"179.28932188134524\" x2=\"400.0\" y2=\"108.57864376269048\" stroke-linecap=\"round\" style=\"stroke:white;stroke-width:4\"/><line x1=\"400.0\" y1=\"108.57864376269048\" x2=\"470.71067811865476\" y2=\"179.28932188134522\" stroke-linecap=\"round\" style=\"stroke:white;stroke-width:4\"/><line x1=\"470.71067811865476\" y1=\"179.28932188134522\" x2=\"400.0\" y2=\"249.99999999999997\" stroke-linecap=\"round\" style=\"stroke:white;stroke-width:4\"/>\n",
              "        \n",
              "      <g visibility=visible transform=\"rotate(45,400.0,249.99999999999997) translate(400.0, 249.99999999999997)\">\n",
              "        <circle stroke=\"white\" stroke-width=\"3\" fill=\"transparent\" r=\"12\" cx=\"0\" cy=\"0\"/>\n",
              "        <polygon points=\"0,19 3,16 -3,16\" style=\"fill:white;stroke:white;stroke-width:2\"/>\n",
              "      </g>\n",
              "    \n",
              "      </svg>\n",
              "    "
            ],
            "text/plain": [
              "<IPython.core.display.HTML object>"
            ]
          },
          "metadata": {
            "tags": []
          }
        },
        {
          "output_type": "stream",
          "text": [
            "\n",
            "New sigma_x: \n",
            "18.93996663600558\n",
            "\n",
            "New sigma_y: \n",
            "1.060033363994421\n",
            "\n",
            "New tau_xy: \n",
            "-4.480736161291701\n",
            "\n",
            "New stress element at 60 rotated anticlockwise\n",
            "\n"
          ],
          "name": "stdout"
        },
        {
          "output_type": "display_data",
          "data": {
            "text/html": [
              "\n",
              "      <svg width=\"800\" height=\"500\">\n",
              "        <rect width=\"100%\" height=\"100%\" fill=\"black\"/>\n",
              "        <line x1=\"400\" y1=\"250\" x2=\"313.39745962155615\" y2=\"200.0\" stroke-linecap=\"round\" style=\"stroke:white;stroke-width:4\"/><line x1=\"313.39745962155615\" y1=\"200.0\" x2=\"363.39745962155615\" y2=\"113.39745962155614\" stroke-linecap=\"round\" style=\"stroke:white;stroke-width:4\"/><line x1=\"363.39745962155615\" y1=\"113.39745962155614\" x2=\"450.0\" y2=\"163.39745962155612\" stroke-linecap=\"round\" style=\"stroke:white;stroke-width:4\"/><line x1=\"450.0\" y1=\"163.39745962155612\" x2=\"400.0\" y2=\"250.0\" stroke-linecap=\"round\" style=\"stroke:white;stroke-width:4\"/>\n",
              "        \n",
              "      <g visibility=visible transform=\"rotate(30,400.0,250.0) translate(400.0, 250.0)\">\n",
              "        <circle stroke=\"white\" stroke-width=\"3\" fill=\"transparent\" r=\"12\" cx=\"0\" cy=\"0\"/>\n",
              "        <polygon points=\"0,19 3,16 -3,16\" style=\"fill:white;stroke:white;stroke-width:2\"/>\n",
              "      </g>\n",
              "    \n",
              "      </svg>\n",
              "    "
            ],
            "text/plain": [
              "<IPython.core.display.HTML object>"
            ]
          },
          "metadata": {
            "tags": []
          }
        },
        {
          "output_type": "stream",
          "text": [
            "\n",
            "New sigma_x: \n",
            "15.806111842123142\n",
            "\n",
            "New sigma_y: \n",
            "4.193888157876858\n",
            "\n",
            "New tau_xy: \n",
            "8.141809705265619\n",
            "\n",
            "New stress element at 75 rotated anticlockwise\n",
            "\n"
          ],
          "name": "stdout"
        },
        {
          "output_type": "display_data",
          "data": {
            "text/html": [
              "\n",
              "      <svg width=\"800\" height=\"500\">\n",
              "        <rect width=\"100%\" height=\"100%\" fill=\"black\"/>\n",
              "        <line x1=\"400\" y1=\"250\" x2=\"303.4074173710932\" y2=\"224.11809548974793\" stroke-linecap=\"round\" style=\"stroke:white;stroke-width:4\"/><line x1=\"303.4074173710932\" y1=\"224.11809548974793\" x2=\"329.2893218813452\" y2=\"127.52551286084109\" stroke-linecap=\"round\" style=\"stroke:white;stroke-width:4\"/><line x1=\"329.2893218813452\" y1=\"127.52551286084109\" x2=\"425.881904510252\" y2=\"153.40741737109317\" stroke-linecap=\"round\" style=\"stroke:white;stroke-width:4\"/><line x1=\"425.881904510252\" y1=\"153.40741737109317\" x2=\"399.99999999999994\" y2=\"250.0\" stroke-linecap=\"round\" style=\"stroke:white;stroke-width:4\"/>\n",
              "        \n",
              "      <g visibility=visible transform=\"rotate(15,399.99999999999994,250.0) translate(399.99999999999994, 250.0)\">\n",
              "        <circle stroke=\"white\" stroke-width=\"3\" fill=\"transparent\" r=\"12\" cx=\"0\" cy=\"0\"/>\n",
              "        <polygon points=\"0,19 3,16 -3,16\" style=\"fill:white;stroke:white;stroke-width:2\"/>\n",
              "      </g>\n",
              "    \n",
              "      </svg>\n",
              "    "
            ],
            "text/plain": [
              "<IPython.core.display.HTML object>"
            ]
          },
          "metadata": {
            "tags": []
          }
        },
        {
          "output_type": "stream",
          "text": [
            "\n",
            "New sigma_x: \n",
            "2.8512357037083538\n",
            "\n",
            "New sigma_y: \n",
            "17.148764296291645\n",
            "\n",
            "New tau_xy: \n",
            "6.992508064783751\n"
          ],
          "name": "stdout"
        }
      ]
    },
    {
      "cell_type": "markdown",
      "metadata": {
        "id": "OQEuEZzcjm2J"
      },
      "source": [
        "#Principal Stresses"
      ]
    },
    {
      "cell_type": "code",
      "metadata": {
        "id": "jyv74RSXjpj7"
      },
      "source": [
        "sigma_1 = (sigmax+sigmay)/2 + np.sqrt(np.square((sigmax-sigmay)/2)+np.square(tau_xy))\n",
        "sigma_2 = (sigmax+sigmay)/2 - np.sqrt(np.square((sigmax-sigmay)/2)+np.square(tau_xy))\n",
        "tau = 0 \n",
        "if sigmax==sigmay:\n",
        "  theta_f=90\n",
        "else:\n",
        "  theta_f = 1/2* np.arctan(2*tau_xy/(sigmax-sigmay))"
      ],
      "execution_count": null,
      "outputs": []
    },
    {
      "cell_type": "code",
      "metadata": {
        "id": "A0IirZC6ke3B",
        "colab": {
          "base_uri": "https://localhost:8080/"
        },
        "outputId": "a8535377-46fc-45a8-9efd-e1b2e1576072"
      },
      "source": [
        "print('Principal stresses 1 :',sigma_1)\n",
        "print('Principal stresses 2 :',sigma_2)\n",
        "print('Shear stress : ',tau)\n",
        "print('Angle of rotation required : ',theta_f)"
      ],
      "execution_count": null,
      "outputs": [
        {
          "output_type": "stream",
          "text": [
            "Principal stresses 1 : 20.0\n",
            "Principal stresses 2 : 0.0\n",
            "Shear stress :  0\n",
            "Angle of rotation required :  90\n"
          ],
          "name": "stdout"
        }
      ]
    },
    {
      "cell_type": "code",
      "metadata": {
        "id": "c_IgDgFRkLNf",
        "colab": {
          "base_uri": "https://localhost:8080/",
          "height": 556
        },
        "outputId": "934c7076-8d27-48af-8dbd-08595bae0151"
      },
      "source": [
        "show_disp(theta_f)"
      ],
      "execution_count": null,
      "outputs": [
        {
          "output_type": "stream",
          "text": [
            "New stress element at 90 rotated anticlockwise\n",
            "\n"
          ],
          "name": "stdout"
        },
        {
          "output_type": "display_data",
          "data": {
            "text/html": [
              "\n",
              "      <svg width=\"800\" height=\"500\">\n",
              "        <rect width=\"100%\" height=\"100%\" fill=\"black\"/>\n",
              "        <line x1=\"400\" y1=\"250\" x2=\"300.0\" y2=\"250.0\" stroke-linecap=\"round\" style=\"stroke:white;stroke-width:4\"/><line x1=\"300.0\" y1=\"250.0\" x2=\"300.0\" y2=\"150.0\" stroke-linecap=\"round\" style=\"stroke:white;stroke-width:4\"/><line x1=\"300.0\" y1=\"150.0\" x2=\"400.0\" y2=\"150.0\" stroke-linecap=\"round\" style=\"stroke:white;stroke-width:4\"/><line x1=\"400.0\" y1=\"150.0\" x2=\"400.0\" y2=\"250.0\" stroke-linecap=\"round\" style=\"stroke:white;stroke-width:4\"/>\n",
              "        \n",
              "      <g visibility=visible transform=\"rotate(0,400.0,250.0) translate(400.0, 250.0)\">\n",
              "        <circle stroke=\"white\" stroke-width=\"3\" fill=\"transparent\" r=\"12\" cx=\"0\" cy=\"0\"/>\n",
              "        <polygon points=\"0,19 3,16 -3,16\" style=\"fill:white;stroke:white;stroke-width:2\"/>\n",
              "      </g>\n",
              "    \n",
              "      </svg>\n",
              "    "
            ],
            "text/plain": [
              "<IPython.core.display.HTML object>"
            ]
          },
          "metadata": {
            "tags": []
          }
        }
      ]
    }
  ]
}